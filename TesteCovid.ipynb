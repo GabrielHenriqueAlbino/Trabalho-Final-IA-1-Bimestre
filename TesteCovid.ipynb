{
  "nbformat": 4,
  "nbformat_minor": 0,
  "metadata": {
    "colab": {
      "name": "TesteCovid.ipynb",
      "provenance": [],
      "authorship_tag": "ABX9TyOzN1JY0186ZWt0hOG5d4Ga",
      "include_colab_link": true
    },
    "kernelspec": {
      "name": "python3",
      "display_name": "Python 3"
    },
    "language_info": {
      "name": "python"
    }
  },
  "cells": [
    {
      "cell_type": "markdown",
      "metadata": {
        "id": "view-in-github",
        "colab_type": "text"
      },
      "source": [
        "<a href=\"https://colab.research.google.com/github/GabrielHenriqueAlbino/Trabalho-Final-IA-1-Bimestre/blob/main/TesteCovid.ipynb\" target=\"_parent\"><img src=\"https://colab.research.google.com/assets/colab-badge.svg\" alt=\"Open In Colab\"/></a>"
      ]
    },
    {
      "cell_type": "code",
      "execution_count": null,
      "metadata": {
        "id": "sAHYf2W8uu6L"
      },
      "outputs": [],
      "source": [
        "import numpy as np\n",
        "import pandas as pd\n",
        "import matplotlib.pyplot as plt\n",
        "import warnings\n",
        "warnings.filterwarnings('ignore')\n",
        "\n"
      ]
    },
    {
      "cell_type": "code",
      "source": [
        "df = pd.read_csv('https://raw.githubusercontent.com/diogocortiz/Crash-Course-IA/master/ArvoreDecis%C3%A3o/dataset_einstein.csv', sep=\";\")\n"
      ],
      "metadata": {
        "id": "7giEFUlev8br"
      },
      "execution_count": null,
      "outputs": []
    },
    {
      "cell_type": "code",
      "source": [
        "df.head(5)\n"
      ],
      "metadata": {
        "id": "UrKOY_WtwLXQ"
      },
      "execution_count": null,
      "outputs": []
    },
    {
      "cell_type": "code",
      "source": [
        "df.tail(5)\n"
      ],
      "metadata": {
        "id": "hIG-WfcwxHkO"
      },
      "execution_count": null,
      "outputs": []
    },
    {
      "cell_type": "code",
      "source": [
        "df.describe().round(2) # Resume e descreve algumas operações gerais do Dataset. Round(2) arredonda para 2 casas decimais.\n"
      ],
      "metadata": {
        "id": "WFqzjeG5xO4l"
      },
      "execution_count": null,
      "outputs": []
    },
    {
      "cell_type": "code",
      "source": [
        "print(f'Tamanho do Dataframe: {df.shape[0]} linhas e {df.shape[1]} colunas') # Descreve o tamanho do dataframe em uma tupla\n"
      ],
      "metadata": {
        "colab": {
          "base_uri": "https://localhost:8080/"
        },
        "id": "A-ORbGoUyIrk",
        "outputId": "17226889-cb2b-4374-ba7f-4d7dfd867977"
      },
      "execution_count": null,
      "outputs": [
        {
          "output_type": "stream",
          "name": "stdout",
          "text": [
            "Tamanho do Dataframe: 357 linhas e 11 colunas\n"
          ]
        }
      ]
    },
    {
      "cell_type": "code",
      "source": [
        "df.info() # Descreve informaçoes de tamanho e de tipo das características\n"
      ],
      "metadata": {
        "id": "xDXuz9C6yZsf"
      },
      "execution_count": null,
      "outputs": []
    },
    {
      "cell_type": "code",
      "source": [
        "print(f'Dataset com valores em branco: {df.shape[0]}')\n",
        "print(f'Dataset sem valores em branco: {df.dropna().shape[0]}')\n"
      ],
      "metadata": {
        "id": "P7uuqBfpygpJ"
      },
      "execution_count": null,
      "outputs": []
    },
    {
      "cell_type": "code",
      "source": [
        "df = df.dropna()\n"
      ],
      "metadata": {
        "id": "h-TLT3zey8LP"
      },
      "execution_count": null,
      "outputs": []
    },
    {
      "cell_type": "code",
      "source": [
        "print ('Total de registros negativos: ', df[df['SARS-Cov-2 exam result'] =='negative'].shape[0])\n",
        "print ('Total de registros positivos: ', df[df['SARS-Cov-2 exam result'] =='positive'].shape[0])\n"
      ],
      "metadata": {
        "id": "GUipQk5tzJA8"
      },
      "execution_count": null,
      "outputs": []
    },
    {
      "cell_type": "code",
      "source": [
        "df.head(2)\n"
      ],
      "metadata": {
        "id": "a_itr4eZznRu"
      },
      "execution_count": null,
      "outputs": []
    },
    {
      "cell_type": "code",
      "source": [
        "y = df['SARS-Cov-2 exam result'].values \n",
        "y[:5]"
      ],
      "metadata": {
        "id": "0hWMBtDcz0v7"
      },
      "execution_count": null,
      "outputs": []
    },
    {
      "cell_type": "code",
      "source": [
        "X = df[['Hemoglobin', 'Leukocytes', 'Basophils','Proteina C reativa mg/dL']].values\n",
        "X[:5]"
      ],
      "metadata": {
        "id": "gvEnl5Qf0E0j"
      },
      "execution_count": null,
      "outputs": []
    },
    {
      "cell_type": "code",
      "source": [
        "from sklearn.model_selection import train_test_split\n"
      ],
      "metadata": {
        "id": "U2i2JZMf0Rpp"
      },
      "execution_count": null,
      "outputs": []
    },
    {
      "cell_type": "code",
      "source": [
        "X_train, X_test, y_train, y_test = train_test_split(X, y, test_size=0.3, random_state=42)\n"
      ],
      "metadata": {
        "id": "7Xt51tzK0Zep"
      },
      "execution_count": null,
      "outputs": []
    },
    {
      "cell_type": "code",
      "source": [
        "from sklearn.tree import DecisionTreeClassifier, export_text\n",
        "from sklearn import tree"
      ],
      "metadata": {
        "id": "ORq-Ad0e1OJb"
      },
      "execution_count": null,
      "outputs": []
    },
    {
      "cell_type": "code",
      "source": [
        "modelo = DecisionTreeClassifier(criterion='entropy', max_depth=4)\n"
      ],
      "metadata": {
        "id": "3fvvFN9i1WsR"
      },
      "execution_count": null,
      "outputs": []
    },
    {
      "cell_type": "code",
      "source": [
        "modelo.get_params()\n"
      ],
      "metadata": {
        "id": "LKRkS0lR2UNQ"
      },
      "execution_count": null,
      "outputs": []
    },
    {
      "cell_type": "code",
      "source": [
        "modelo.fit(X_train, y_train)\n"
      ],
      "metadata": {
        "id": "0FKQt7qi2k4F",
        "colab": {
          "base_uri": "https://localhost:8080/"
        },
        "outputId": "a02c9127-869d-47bc-c3b9-7c3d22d8271c"
      },
      "execution_count": null,
      "outputs": [
        {
          "output_type": "execute_result",
          "data": {
            "text/plain": [
              "DecisionTreeClassifier(criterion='entropy', max_depth=4)"
            ]
          },
          "metadata": {},
          "execution_count": 40
        }
      ]
    },
    {
      "cell_type": "code",
      "source": [
        "import graphviz\n",
        "print (modelo.feature_importances_)\n",
        "nome_features = ['Hemoglobin', 'Leukocytes', 'Basophils','Proteina C reativa mg/dL']\n",
        "nome_classes = modelo.classes_\n",
        "\n",
        "fig, ax = plt.subplots(figsize=(15, 15))\n",
        "tree.plot_tree(modelo,\n",
        "               feature_names=nome_features,\n",
        "               class_names=nome_classes,\n",
        "               filled=True,\n",
        "               max_depth=4,\n",
        "               fontsize=10)\n",
        "plt.show()"
      ],
      "metadata": {
        "id": "1ZQJKIxX3Ppf"
      },
      "execution_count": null,
      "outputs": []
    },
    {
      "cell_type": "code",
      "source": [
        "r = export_text(modelo, feature_names=nome_features)\n",
        "print(r)"
      ],
      "metadata": {
        "id": "VmqKd_F95giZ"
      },
      "execution_count": null,
      "outputs": []
    },
    {
      "cell_type": "code",
      "source": [
        "y_preds = modelo.predict(X_test)\n"
      ],
      "metadata": {
        "id": "m5qV5Pa85rAw"
      },
      "execution_count": null,
      "outputs": []
    },
    {
      "cell_type": "code",
      "source": [
        "X_test[:5]\n"
      ],
      "metadata": {
        "id": "epVpXEA75u1u"
      },
      "execution_count": null,
      "outputs": []
    },
    {
      "cell_type": "code",
      "source": [
        "y_preds[:5]\n"
      ],
      "metadata": {
        "id": "4GRMwRc25vlx"
      },
      "execution_count": null,
      "outputs": []
    },
    {
      "cell_type": "code",
      "source": [
        "importances = modelo.feature_importances_\n",
        "indices = np.argsort(importances)[::-1]\n",
        "print(\"Feature ranking:\")\n",
        "\n",
        "for f in range(X.shape[1]):\n",
        "    print(\"%d. feature %d (%f)\" % (f + 1, indices[f], importances[indices[f]]))\n",
        "f, ax = plt.subplots(figsize=(11, 9))\n",
        "plt.title(\"Feature ranking\", fontsize = 20)\n",
        "plt.bar(range(X.shape[1]), importances[indices],\n",
        "    color=\"b\", \n",
        "    align=\"center\")\n",
        "plt.xticks(range(X.shape[1]), indices)\n",
        "plt.xlim([-1, X.shape[1]])\n",
        "plt.ylabel(\"importance\", fontsize = 18)\n",
        "plt.xlabel(\"index of the feature\", fontsize = 18)\n",
        "plt.show()\n",
        "\n",
        "#Indice das features\n",
        "# 0 - 'Hemoglobin', \n",
        "# 1 - 'Leukocytes'\n",
        "# 2 - 'Basophils',\n",
        "# 3 - 'Proteina C reativa mg/dL']"
      ],
      "metadata": {
        "id": "KOygQeEd5_FO"
      },
      "execution_count": null,
      "outputs": []
    },
    {
      "cell_type": "code",
      "source": [
        "from sklearn.metrics import accuracy_score, classification_report\n",
        "print(\"ACURÁCIA DA ÁRVORE: \", accuracy_score(y_test, y_preds))"
      ],
      "metadata": {
        "id": "Pe6rMwSI6G7r"
      },
      "execution_count": null,
      "outputs": []
    },
    {
      "cell_type": "code",
      "source": [
        "print(classification_report(y_test, y_preds))"
      ],
      "metadata": {
        "id": "h-CqmYtw7sLc"
      },
      "execution_count": null,
      "outputs": []
    }
  ]
}